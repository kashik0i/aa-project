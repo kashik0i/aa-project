{
  "nbformat": 4,
  "nbformat_minor": 0,
  "metadata": {
    "colab": {
      "name": "aa-project-dynamic-programming.ipynb",
      "provenance": [],
      "collapsed_sections": []
    },
    "kernelspec": {
      "name": "python3",
      "display_name": "Python 3"
    },
    "language_info": {
      "name": "python"
    }
  },
  "cells": [
    {
      "cell_type": "code",
      "execution_count": 15,
      "metadata": {
        "id": "8FFSgA2nCwDC"
      },
      "outputs": [],
      "source": [
        "# This function prints the longest palindrome\n",
        "# substring of st[]. It also returns the length\n",
        "# of the longest palindrome\n",
        "def dynamic_programming(st) :\n",
        "    n = len(st) # get length of input string\n",
        "\n",
        "    # table[i][j] will be false if substring \n",
        "    # str[i..j] is not palindrome. Else \n",
        "    # table[i][j] will be true\n",
        "    table = [[0 for x in range(n)] for y\n",
        "                          in range(n)] \n",
        "    \n",
        "    # All substrings of length 1 are\n",
        "    # palindromes\n",
        "    maxLength = 1\n",
        "    i = 0\n",
        "    while (i < n) :\n",
        "        table[i][i] = True\n",
        "        i = i + 1\n",
        "    \n",
        "    # check for sub-string of length 2.\n",
        "    start = 0\n",
        "    i = 0\n",
        "    while i < n - 1 :\n",
        "        if (st[i] == st[i + 1]) :\n",
        "            table[i][i + 1] = True\n",
        "            start = i\n",
        "            maxLength = 2\n",
        "        i = i + 1\n",
        "    \n",
        "    # Check for lengths greater than 2. \n",
        "    # k is length of substring\n",
        "    k = 3\n",
        "    while k <= n :\n",
        "        # Fix the starting index\n",
        "        i = 0\n",
        "        while i < (n - k + 1) :\n",
        "            \n",
        "            # Get the ending index of \n",
        "            # substring from starting \n",
        "            # index i and length k\n",
        "            j = i + k - 1\n",
        "    \n",
        "            # checking for sub-string from\n",
        "            # ith index to jth index iff \n",
        "            # st[i + 1] to st[(j-1)] is a \n",
        "            # palindrome\n",
        "            if (table[i + 1][j - 1] and \n",
        "                      st[i] == st[j]) :\n",
        "                table[i][j] = True\n",
        "    \n",
        "                if (k > maxLength) :\n",
        "                    start = i\n",
        "                    maxLength = k\n",
        "            i = i + 1\n",
        "        k = k + 1\n",
        "    \n",
        "    return st[start : start + maxLength ] # return length of LPS\n",
        "\n",
        "\n",
        "\n",
        "\n",
        "# This code is contributed by Nikita Tiwari"
      ]
    },
    {
      "cell_type": "code",
      "source": [
        "import random, string, datetime\n",
        "import matplotlib.pyplot as plt\n",
        "\n",
        "def random_word(length):\n",
        "   letters = string.ascii_lowercase\n",
        "   return ''.join(random.choice(string.ascii_letters.lower()[:2]) for y in range(length))\n",
        "def plot(x,y,algorithm_type):\n",
        "  plt.plot(y, x)\n",
        "  plt.xlabel('problem size')\n",
        "  plt.ylabel('running time in milliseconds')\n",
        "  plt.title(algorithm_type)\n",
        "  plt.show()\n",
        "def emperical_analysis(fn,algorithm_type):\n",
        "  input_size=[]\n",
        "  time=[]\n",
        "  for k in range(1,100):\n",
        "    #print(k)\n",
        "    rand_str_size=k*100\n",
        "    rand_str = random_word(rand_str_size)\n",
        "    input_size.append(rand_str_size)\n",
        "    start_time =  datetime.datetime.now()\n",
        "    fn(rand_str)\n",
        "    end_time =  datetime.datetime.now()\n",
        "    time_elapsed = (end_time - start_time)\n",
        "    time_elapsed = int(time_elapsed.total_seconds()*1000)\n",
        "    time.append(time_elapsed)\n",
        "  plot(time,input_size,algorithm_type)"
      ],
      "metadata": {
        "id": "TCDKUf34RA-w"
      },
      "execution_count": 36,
      "outputs": []
    },
    {
      "cell_type": "code",
      "source": [
        "emperical_analysis(dynamic_programming,\"dynamic programming\")"
      ],
      "metadata": {
        "colab": {
          "base_uri": "https://localhost:8080/",
          "height": 295
        },
        "id": "JgdPJM0kRLQ8",
        "outputId": "3803ed2e-5701-4628-f2ec-2e4f08ba1f09"
      },
      "execution_count": 37,
      "outputs": [
        {
          "output_type": "display_data",
          "data": {
            "image/png": "[encoded data removed]",
            "text/plain": [
              "<Figure size 432x288 with 1 Axes>"
            ]
          },
          "metadata": {
            "needs_background": "light"
          }
        }
      ]
    },
    {
      "cell_type": "code",
      "source": [
        "# Driver program to test above functions\n",
        "st = \"forgeeksskeegfor\"\n",
        "l = dynamic_programming(st)\n",
        "print (\"Length is:\", l)"
      ],
      "metadata": {
        "colab": {
          "base_uri": "https://localhost:8080/"
        },
        "id": "09ecalv8C3IE",
        "outputId": "f556ceeb-f4e5-4048-ee4a-6a3fdd1cc50c"
      },
      "execution_count": 16,
      "outputs": [
        {
          "output_type": "stream",
          "name": "stdout",
          "text": [
            "Length is: geeksskeeg\n"
          ]
        }
      ]
    }
  ]
}