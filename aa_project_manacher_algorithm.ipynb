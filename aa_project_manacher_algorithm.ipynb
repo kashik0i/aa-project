{
  "nbformat": 4,
  "nbformat_minor": 0,
  "metadata": {
    "colab": {
      "name": "aa-project-manacher-algorithm.ipynb",
      "provenance": []
    },
    "kernelspec": {
      "name": "python3",
      "display_name": "Python 3"
    },
    "language_info": {
      "name": "python"
    }
  },
  "cells": [
    {
      "cell_type": "code",
      "source": [
        "\n",
        "\n",
        "def manacher( s: str) -> str:\n",
        "    \"\"\"\n",
        "    search outwards from each character using manacher's algorithm\n",
        "    \"\"\"\n",
        "\n",
        "    if len(s) < 2:\n",
        "        return s\n",
        "\n",
        "    processed_string = '#'.join('^{}S'.format(s))\n",
        "    length = len(processed_string)\n",
        "    lps = [0] * length\n",
        "    center = right = max_lps_length = max_lps_position = 0\n",
        "\n",
        "    for offset, _ in islice(enumerate(processed_string), 1, length - 1):\n",
        "\n",
        "        # check if within previous range of previous largest palindrome\n",
        "        if offset < right:\n",
        "            # left|mirror = 2 * center - offset\n",
        "            lps[offset] = min(lps[2 * center - offset], right - offset)\n",
        "\n",
        "        # check if within range and if so, expand from current character to left and right and compare them\n",
        "        while (offset + lps[offset] + 1 < length and offset - lps[offset] - 1 > 0 and processed_string[\n",
        "            (offset + lps[offset] + 1)] == processed_string[\n",
        "                    (offset - lps[offset] - 1)]):\n",
        "            lps[offset] += 1\n",
        "\n",
        "        if lps[offset] > max_lps_length:\n",
        "            max_lps_length = lps[offset]\n",
        "            max_lps_position = offset\n",
        "\n",
        "        if offset + lps[offset] > right:\n",
        "            center = offset\n",
        "            right = offset + lps[offset]\n",
        "\n",
        "    start = (max_lps_position - max_lps_length) // 2\n",
        "    end = start + max_lps_length - 1\n",
        "    return s[start:end + 1]\n",
        "\n"
      ],
      "metadata": {
        "id": "NFRoB8xG2Efw"
      },
      "execution_count": 22,
      "outputs": []
    },
    {
      "cell_type": "code",
      "source": [
        "manacher(\"asas\")"
      ],
      "metadata": {
        "colab": {
          "base_uri": "https://localhost:8080/",
          "height": 35
        },
        "id": "8Yk9WiQo3m3v",
        "outputId": "3c8af848-a19a-43eb-d744-3fe5b0c8be2b"
      },
      "execution_count": 23,
      "outputs": [
        {
          "output_type": "execute_result",
          "data": {
            "application/vnd.google.colaboratory.intrinsic+json": {
              "type": "string"
            },
            "text/plain": [
              "'asa'"
            ]
          },
          "metadata": {},
          "execution_count": 23
        }
      ]
    },
    {
      "cell_type": "code",
      "source": [
        "import random, string, datetime\n",
        "import matplotlib.pyplot as plt\n",
        "\n",
        "\n",
        "def random_word(length):\n",
        "   letters = string.ascii_lowercase\n",
        "   return ''.join(random.choice(string.ascii_letters.lower()[:2]) for y in range(length))"
      ],
      "metadata": {
        "id": "vt4vLXeQ4Lth"
      },
      "execution_count": 30,
      "outputs": []
    },
    {
      "cell_type": "code",
      "source": [
        "def plot(x,y,algorithm_type):\n",
        "  plt.plot(y, x)\n",
        "  plt.xlabel('problem size')\n",
        "  plt.ylabel('running time in miliseconds')\n",
        "  plt.title(algorithm_type)\n",
        "  plt.show()\n",
        "def emperical_analysis(fn,algorithm_type):\n",
        "  input_size=[]\n",
        "  time=[]\n",
        "  for k in range(1,1000):\n",
        "    #print(k)\n",
        "    rand_str_size=k*100\n",
        "    rand_str = random_word(rand_str_size)\n",
        "    input_size.append(rand_str_size)\n",
        "    start_time = datetime.datetime.now()\n",
        "    fn(rand_str)\n",
        "    end_time =  datetime.datetime.now()\n",
        "    time_elapsed = (end_time - start_time)\n",
        "    time_elapsed = int(time_elapsed.total_seconds() * 1000)\n",
        "    time.append(time_elapsed)\n",
        "  plot(time,input_size,algorithm_type)\n"
      ],
      "metadata": {
        "id": "kYAIVeuH39Gu"
      },
      "execution_count": 32,
      "outputs": []
    },
    {
      "cell_type": "code",
      "source": [
        "emperical_analysis(manacher,\"Manacher's algorithm\")"
      ],
      "metadata": {
        "colab": {
          "base_uri": "https://localhost:8080/",
          "height": 295
        },
        "id": "u9DdFF-s3_q6",
        "outputId": "f2f579ff-6af1-45d1-fdc3-dbc633546898"
      },
      "execution_count": 33,
      "outputs": [
        {
          "output_type": "display_data",
          "data": {
            "image/png": "[encoded data removed]",
            "text/plain": [
              "<Figure size 432x288 with 1 Axes>"
            ]
          },
          "metadata": {
            "needs_background": "light"
          }
        }
      ]
    },
    {
      "cell_type": "code",
      "source": [
        "def fastLongestPalindromes(seq):\n",
        "    \"\"\"\n",
        "    Behaves identically to naiveLongestPalindrome (see below), but\n",
        "    runs in linear time.\n",
        "    \"\"\"\n",
        "    seqLen = len(seq)\n",
        "    l = []\n",
        "    i = 0\n",
        "    palLen = 0\n",
        "    # Loop invariant: seq[(i - palLen):i] is a palindrome.\n",
        "    # Loop invariant: len(l) >= 2 * i - palLen. The code path that\n",
        "    # increments palLen skips the l-filling inner-loop.\n",
        "    # Loop invariant: len(l) < 2 * i + 1. Any code path that\n",
        "    # increments i past seqLen - 1 exits the loop early and so skips\n",
        "    # the l-filling inner loop.\n",
        "    while i < seqLen:\n",
        "        # First, see if we can extend the current palindrome.  Note\n",
        "        # that the center of the palindrome remains fixed.\n",
        "        if i > palLen and seq[i - palLen - 1] == seq[i]:\n",
        "            palLen += 2\n",
        "            i += 1\n",
        "            continue\n",
        "\n",
        "        # The current palindrome is as large as it gets, so we append\n",
        "        # it.\n",
        "        l.append(palLen)\n",
        "\n",
        "        # Now to make further progress, we look for a smaller\n",
        "        # palindrome sharing the right edge with the current\n",
        "        # palindrome.  If we find one, we can try to expand it and see\n",
        "        # where that takes us.  At the same time, we can fill the\n",
        "        # values for l that we neglected during the loop above. We\n",
        "        # make use of our knowledge of the length of the previous\n",
        "        # palindrome (palLen) and the fact that the values of l for\n",
        "        # positions on the right half of the palindrome are closely\n",
        "        # related to the values of the corresponding positions on the\n",
        "        # left half of the palindrome.\n",
        "\n",
        "        # Traverse backwards starting from the second-to-last index up\n",
        "        # to the edge of the last palindrome.\n",
        "        s = len(l) - 2\n",
        "        e = s - palLen\n",
        "        for j in xrange(s, e, -1):\n",
        "            # d is the value l[j] must have in order for the\n",
        "            # palindrome centered there to share the left edge with\n",
        "            # the last palindrome.  (Drawing it out is helpful to\n",
        "            # understanding why the - 1 is there.)\n",
        "            d = j - e - 1\n",
        "\n",
        "            # We check to see if the palindrome at l[j] shares a left\n",
        "            # edge with the last palindrome.  If so, the corresponding\n",
        "            # palindrome on the right half must share the right edge\n",
        "            # with the last palindrome, and so we have a new value for\n",
        "            # palLen.\n",
        "            #\n",
        "            # An exercise for the reader: in this place in the code you\n",
        "            # might think that you can replace the == with >= to improve\n",
        "            # performance.  This does not change the correctness of the\n",
        "            # algorithm but it does hurt performance, contrary to\n",
        "            # expectations.  Why?\n",
        "            if l[j] == d:\n",
        "                palLen = d\n",
        "                # We actually want to go to the beginning of the outer\n",
        "                # loop, but Python doesn't have loop labels.  Instead,\n",
        "                # we use an else block corresponding to the inner\n",
        "                # loop, which gets executed only when the for loop\n",
        "                # exits normally (i.e., not via break).\n",
        "                break\n",
        "\n",
        "            # Otherwise, we just copy the value over to the right\n",
        "            # side.  We have to bound l[i] because palindromes on the\n",
        "            # left side could extend past the left edge of the last\n",
        "            # palindrome, whereas their counterparts won't extend past\n",
        "            # the right edge.\n",
        "            l.append(min(d, l[j]))\n",
        "        else:\n",
        "            # This code is executed in two cases: when the for loop\n",
        "            # isn't taken at all (palLen == 0) or the inner loop was\n",
        "            # unable to find a palindrome sharing the left edge with\n",
        "            # the last palindrome.  In either case, we're free to\n",
        "            # consider the palindrome centered at seq[i].\n",
        "            palLen = 1\n",
        "            i += 1\n",
        "\n",
        "    # We know from the loop invariant that len(l) < 2 * seqLen + 1, so\n",
        "    # we must fill in the remaining values of l.\n",
        "\n",
        "    # Obviously, the last palindrome we're looking at can't grow any\n",
        "    # more.\n",
        "    l.append(palLen)\n",
        "\n",
        "    # Traverse backwards starting from the second-to-last index up\n",
        "    # until we get l to size 2 * seqLen + 1. We can deduce from the\n",
        "    # loop invariants we have enough elements.\n",
        "    lLen = len(l)\n",
        "    s = lLen - 2\n",
        "    e = s - (2 * seqLen + 1 - lLen)\n",
        "    for i in xrange(s, e, -1):\n",
        "        # The d here uses the same formula as the d in the inner loop\n",
        "        # above.  (Computes distance to left edge of the last\n",
        "        # palindrome.)\n",
        "        d = i - e - 1\n",
        "        # We bound l[i] with min for the same reason as in the inner\n",
        "        # loop above.\n",
        "        l.append(min(d, l[i]))\n",
        "\n",
        "    return l"
      ],
      "metadata": {
        "id": "hKaHgnI1FTWl"
      },
      "execution_count": null,
      "outputs": []
    }
  ]
}