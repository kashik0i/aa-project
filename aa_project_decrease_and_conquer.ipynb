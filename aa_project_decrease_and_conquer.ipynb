{
  "nbformat": 4,
  "nbformat_minor": 0,
  "metadata": {
    "colab": {
      "name": "aa-project-decrease-and-conquer.ipynb",
      "provenance": []
    },
    "kernelspec": {
      "name": "python3",
      "display_name": "Python 3"
    },
    "language_info": {
      "name": "python"
    }
  },
  "cells": [
    {
      "cell_type": "code",
      "source": [
        "def is_palindromic_fast(s:str)->bool:\n",
        "  pass"
      ],
      "metadata": {
        "id": "5kGvA9hz7gNF"
      },
      "execution_count": null,
      "outputs": []
    },
    {
      "cell_type": "code",
      "execution_count": 44,
      "metadata": {
        "id": "uIYcJOxyoRks"
      },
      "outputs": [],
      "source": [
        "def is_palindromic_slow(s:str)->bool:\n",
        "  inverted=s[::-1]\n",
        "  for i in range(len(s)):\n",
        "    if s[i]!=inverted[i]:\n",
        "      return False\n",
        "  return True"
      ]
    },
    {
      "cell_type": "code",
      "source": [
        "def decrease_and_conquer(s):\n",
        "  a=''\n",
        "  b=''\n",
        "  for i in range(0,len(s)):\n",
        "    if is_palindromic_slow(s[i:]):\n",
        "      a=s[i:]\n",
        "      break\n",
        "  for j in range(len(s)-1,0,-1):\n",
        "    if is_palindromic_slow(s[:j]):\n",
        "       b=s[:j]\n",
        "       break\n",
        "  \n",
        "  return a if len(a)>len(b) else b\n"
      ],
      "metadata": {
        "id": "sK3Qgoiood73"
      },
      "execution_count": 45,
      "outputs": []
    },
    {
      "cell_type": "code",
      "source": [
        "import random, string\n",
        "\n",
        "def random_word(length):\n",
        "   letters = string.ascii_lowercase\n",
        "   return ''.join(random.choice(string.ascii_letters.lower()[:2]) for y in range(length))"
      ],
      "metadata": {
        "id": "CqIOPCuXHIlW"
      },
      "execution_count": 101,
      "outputs": []
    },
    {
      "cell_type": "code",
      "source": [
        "def plot(x,y,algorithm_type):\n",
        "  plt.plot(y, x)\n",
        "  plt.xlabel('problem size')\n",
        "  plt.ylabel('running time in miliseconds')\n",
        "  plt.title(algorithm_type)\n",
        "  plt.show()\n",
        "def emperical_analysis(fn,algorithm_type):\n",
        "  input_size=[]\n",
        "  time=[]\n",
        "  for k in range(1,300):\n",
        "    #print(k)\n",
        "    rand_str_size=k*100\n",
        "    rand_str = random_word(rand_str_size)\n",
        "    input_size.append(rand_str_size)\n",
        "    start_time = datetime.datetime.now()\n",
        "    fn(rand_str)\n",
        "    end_time =  datetime.datetime.now()\n",
        "    time_elapsed = (end_time - start_time)\n",
        "    time_elapsed = int(time_elapsed.total_seconds() * 1000)\n",
        "    time.append(time_elapsed)\n",
        "  plot(time,input_size,algorithm_type)\n"
      ],
      "metadata": {
        "id": "UCNG0bR5K_hl"
      },
      "execution_count": 185,
      "outputs": []
    },
    {
      "cell_type": "code",
      "source": [
        "emperical_analysis(decrease_and_conquer,\"decrease and conquer\")"
      ],
      "metadata": {
        "colab": {
          "base_uri": "https://localhost:8080/",
          "height": 295
        },
        "id": "w0vbg9RIOnlD",
        "outputId": "13c1b1fc-0da6-46c5-850b-83c7eca3b287"
      },
      "execution_count": 186,
      "outputs": [
        {
          "output_type": "display_data",
          "data": {
            "image/png": "[encoded data removed]",
            "text/plain": [
              "<Figure size 432x288 with 1 Axes>"
            ]
          },
          "metadata": {
            "needs_background": "light"
          }
        }
      ]
    }
  ]
}