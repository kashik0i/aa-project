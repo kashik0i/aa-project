{
  "nbformat": 4,
  "nbformat_minor": 0,
  "metadata": {
    "colab": {
      "name": "aa-project-bruteforce.ipynb",
      "provenance": []
    },
    "kernelspec": {
      "name": "python3",
      "display_name": "Python 3"
    },
    "language_info": {
      "name": "python"
    }
  },
  "cells": [
    {
      "cell_type": "code",
      "execution_count": 3,
      "metadata": {
        "id": "OQdgPf-45ipN"
      },
      "outputs": [],
      "source": [
        "def is_palindromic(s:str)->bool:\n",
        "  return s==s[::-1]"
      ]
    },
    {
      "cell_type": "code",
      "source": [
        "def get_all_substrings(input_string):\n",
        "  length = len(input_string)\n",
        "  out=[]\n",
        "  for i in range(length):\n",
        "    for j in range(i,length):\n",
        "      out.append(input_string[i:j+1])\n",
        "  return out\n",
        "\n",
        "# print (get_all_substrings('abcde'))"
      ],
      "metadata": {
        "id": "YXJPeh6k6JJy"
      },
      "execution_count": 4,
      "outputs": []
    },
    {
      "cell_type": "code",
      "source": [
        "print (get_all_substrings('abcde'))"
      ],
      "metadata": {
        "id": "_q0PNrPJ9I7V",
        "outputId": "8541569d-cdb8-433a-f823-f6794ca81bbc",
        "colab": {
          "base_uri": "https://localhost:8080/"
        }
      },
      "execution_count": 5,
      "outputs": [
        {
          "output_type": "stream",
          "name": "stdout",
          "text": [
            "['a', 'ab', 'abc', 'abcd', 'abcde', 'b', 'bc', 'bcd', 'bcde', 'c', 'cd', 'cde', 'd', 'de', 'e']\n"
          ]
        }
      ]
    },
    {
      "cell_type": "code",
      "source": [
        "def bruteforce(s:str)->str:\n",
        "  x_subs=get_all_substrings(s)\n",
        "  max=\"\"\n",
        "  for item in x_subs:\n",
        "    if is_palindromic(item) and len(item)>len(max):\n",
        "      max=item\n",
        "  return max\n"
      ],
      "metadata": {
        "id": "2lqUX1XA5rwu"
      },
      "execution_count": 6,
      "outputs": []
    },
    {
      "cell_type": "code",
      "source": [
        "import random, string, datetime\n",
        "import matplotlib.pyplot as plt\n",
        "\n",
        "\n",
        "def random_word(length):\n",
        "   letters = string.ascii_lowercase\n",
        "   return ''.join(random.choice(string.ascii_letters.lower()[:2]) for y in range(length))\n",
        "def plot(x,y,algorithm_type):\n",
        "  plt.plot(y, x)\n",
        "  plt.xlabel('problem size')\n",
        "  plt.ylabel('running time in miliseconds')\n",
        "  plt.title(algorithm_type)\n",
        "  plt.show()\n",
        "def emperical_analysis(fn,algorithm_type):\n",
        "  input_size=[]\n",
        "  time=[]\n",
        "  for k in range(25):\n",
        "    #print(k)\n",
        "    rand_str_size=k*100\n",
        "    rand_str = random_word(rand_str_size)\n",
        "    input_size.append(rand_str_size)\n",
        "    start_time =  datetime.datetime.now()\n",
        "    fn(rand_str)\n",
        "    end_time =  datetime.datetime.now()\n",
        "    time_elapsed = (end_time - start_time)\n",
        "    time_elapsed = int(time_elapsed.total_seconds()*1000)\n",
        "    time.append(time_elapsed)\n",
        "  plot(time,input_size,algorithm_type)"
      ],
      "metadata": {
        "id": "eYbmKue2PMFF"
      },
      "execution_count": 14,
      "outputs": []
    },
    {
      "cell_type": "code",
      "source": [
        "emperical_analysis(bruteforce,\"bruteforce\")"
      ],
      "metadata": {
        "colab": {
          "base_uri": "https://localhost:8080/",
          "height": 295
        },
        "id": "hv2a6CuWPNMe",
        "outputId": "f3485b24-358a-4c02-cf43-2a57a5343a12"
      },
      "execution_count": 15,
      "outputs": [
        {
          "output_type": "display_data",
          "data": {
            "image/png": "[encoded data removed]",
            "text/plain": [
              "<Figure size 432x288 with 1 Axes>"
            ]
          },
          "metadata": {
            "needs_background": "light"
          }
        }
      ]
    }
  ]
}